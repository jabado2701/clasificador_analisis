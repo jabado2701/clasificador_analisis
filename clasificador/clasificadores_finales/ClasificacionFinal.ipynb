{
 "cells": [
  {
   "cell_type": "code",
   "execution_count": 1,
   "id": "64fc75f9",
   "metadata": {},
   "outputs": [
    {
     "name": "stderr",
     "output_type": "stream",
     "text": [
      "c:\\Users\\Jaime\\AppData\\Local\\Programs\\Python\\Python310\\lib\\site-packages\\torchvision\\io\\image.py:13: UserWarning: Failed to load image Python extension: '[WinError 127] No se encontró el proceso especificado'If you don't plan on using image functionality from `torchvision.io`, you can ignore this warning. Otherwise, there might be something wrong with your environment. Did you have `libjpeg` or `libpng` installed before building `torchvision` from source?\n",
      "  warn(\n"
     ]
    }
   ],
   "source": [
    "import pandas as pd\n",
    "import torch\n",
    "from transformers import BertTokenizer, BertForSequenceClassification\n",
    "from tqdm import tqdm\n"
   ]
  },
  {
   "cell_type": "code",
   "execution_count": null,
   "id": "0e982581",
   "metadata": {},
   "outputs": [],
   "source": [
    "ruta_base = \"clasificador_analisis/clasificador/datasets_originales/\"\n",
    "path = ruta_base + \"politicos_manual_completo.xlsx\"\n",
    "\n",
    "df_posts = pd.read_excel(path, sheet_name=\"Posts\")"
   ]
  },
  {
   "cell_type": "markdown",
   "id": "b92f0d1b",
   "metadata": {},
   "source": [
    "## Tema"
   ]
  },
  {
   "cell_type": "code",
   "execution_count": null,
   "id": "ef743a9d",
   "metadata": {},
   "outputs": [
    {
     "name": "stderr",
     "output_type": "stream",
     "text": [
      "Clasificando temas: 100%|██████████| 8597/8597 [07:31<00:00, 19.03it/s]\n"
     ]
    },
    {
     "name": "stdout",
     "output_type": "stream",
     "text": [
      "✅ Clasificación de temas completada y guardada.\n"
     ]
    }
   ],
   "source": [
    "etiqueta_map = {\n",
    "    0: \"Gestión Pública e Instituciones\",\n",
    "    1: \"Economía, Empresa, Empleo e Infraestructuras\",\n",
    "    2: \"Sociedad, Igualdad y Derechos\",\n",
    "    3: \"Otros\"\n",
    "}\n",
    "\n",
    "model_path = \"clasificador_analisis/clasificador/clasificadores_finales/modelo_final_tema\"\n",
    "\n",
    "tokenizer = BertTokenizer.from_pretrained(model_path)\n",
    "model = BertForSequenceClassification.from_pretrained(model_path)\n",
    "model.eval()\n",
    "\n",
    "def predict_tema(text):\n",
    "    inputs = tokenizer(text, return_tensors=\"pt\", truncation=True, padding=True, max_length=128)\n",
    "    with torch.no_grad():\n",
    "        outputs = model(**inputs)\n",
    "    probs = torch.softmax(outputs.logits, dim=1).squeeze()\n",
    "    return int(torch.argmax(probs))\n",
    "\n",
    "ruta_base = \"clasificador_analisis/clasificador/datasets_originales/\"\n",
    "input_path = ruta_base + \"politicos_manual_completo.xlsx\"\n",
    "xlsx = pd.ExcelFile(input_path)\n",
    "\n",
    "df_posts = pd.read_excel(xlsx, sheet_name=\"Posts\")\n",
    "df_comentarios = pd.read_excel(xlsx, sheet_name=\"Comentarios\")\n",
    "df_metadata = pd.read_excel(xlsx, sheet_name=\"Metadata\")\n",
    "\n",
    "posts_sin_tema = df_posts[df_posts[\"Tema\"].isna()].copy()\n",
    "\n",
    "tqdm.pandas(desc=\"Clasificando temas\")\n",
    "posts_sin_tema[\"Tema\"] = posts_sin_tema[\"Contenido_Traducido\"].progress_apply(\n",
    "    lambda x: etiqueta_map[predict_tema(str(x))] if pd.notnull(x) else None\n",
    ")\n",
    "\n",
    "df_posts.update(posts_sin_tema)\n",
    "\n",
    "output_path = \"clasificador_analisis/clasificador/clasificadores_finales/politicos_etiquetado_tema.xlsx\"\n",
    "with pd.ExcelWriter(output_path, engine=\"openpyxl\") as writer:\n",
    "    df_metadata.to_excel(writer, index=False, sheet_name=\"Metadata\")\n",
    "    df_posts.to_excel(writer, index=False, sheet_name=\"Posts\")\n",
    "    df_comentarios.to_excel(writer, index=False, sheet_name=\"Comentarios\")\n",
    "\n",
    "print(\"✅ Clasificación de temas completada y guardada.\")\n"
   ]
  },
  {
   "cell_type": "markdown",
   "id": "53eddba8",
   "metadata": {},
   "source": [
    "## Tono"
   ]
  },
  {
   "cell_type": "code",
   "execution_count": null,
   "id": "2f6d7214",
   "metadata": {},
   "outputs": [
    {
     "name": "stderr",
     "output_type": "stream",
     "text": [
      "Clasificando tono en Posts: 100%|██████████| 8597/8597 [07:44<00:00, 18.50it/s]\n",
      "Clasificando tono en Comentarios: 100%|██████████| 28173/28173 [19:47<00:00, 23.72it/s]\n",
      "Clasificando tono en Respuestas: 100%|██████████| 200/200 [00:07<00:00, 25.99it/s]\n"
     ]
    },
    {
     "name": "stdout",
     "output_type": "stream",
     "text": [
      "✅ Clasificación de tono completada y guardada.\n"
     ]
    }
   ],
   "source": [
    "model_path_tono = \"clasificador_analisis/clasificador/clasificadores_finales/modelo_final_tono\"\n",
    "\n",
    "etiqueta_map_tono = {\n",
    "    0: \"Negativo\",\n",
    "    1: \"Neutro\",\n",
    "    2: \"Positivo\"\n",
    "}\n",
    "\n",
    "tokenizer_tono = BertTokenizer.from_pretrained(model_path_tono)\n",
    "model_tono = BertForSequenceClassification.from_pretrained(model_path_tono)\n",
    "model_tono.eval()\n",
    "\n",
    "def predict_tono(text):\n",
    "    inputs = tokenizer_tono(text, return_tensors=\"pt\", truncation=True, padding=True, max_length=128)\n",
    "    with torch.no_grad():\n",
    "        outputs = model_tono(**inputs)\n",
    "    probs = torch.softmax(outputs.logits, dim=1).squeeze()\n",
    "    return int(torch.argmax(probs))\n",
    "\n",
    "input_path = \"clasificador_analisis/clasificador/clasificadores_finales/politicos_etiquetado_tema.xlsx\"\n",
    "xlsx = pd.ExcelFile(input_path)\n",
    "\n",
    "df_posts = pd.read_excel(xlsx, sheet_name=\"Posts\")\n",
    "df_comentarios = pd.read_excel(xlsx, sheet_name=\"Comentarios\")\n",
    "df_metadata = pd.read_excel(xlsx, sheet_name=\"Metadata\")\n",
    "\n",
    "posts_sin_tono = df_posts[df_posts[\"Tono\"].isna()].copy()\n",
    "comentarios_sin_tono = df_comentarios[df_comentarios[\"Tono\"].isna()].copy()\n",
    "\n",
    "respuestas_validas = (\n",
    "    df_comentarios[\"Respuesta_Traducida\"].notna() &\n",
    "    (df_comentarios[\"Respuesta_Traducida\"].str.strip().str.lower() != \"no\")\n",
    ")\n",
    "respuestas_sin_tono = df_comentarios[respuestas_validas & df_comentarios[\"Tono_Respuesta\"].isna()].copy()\n",
    "\n",
    "tqdm.pandas(desc=\"Clasificando tono en Posts\")\n",
    "posts_sin_tono[\"Tono\"] = posts_sin_tono[\"Contenido_Traducido\"].progress_apply(\n",
    "    lambda x: etiqueta_map_tono[predict_tono(str(x))] if pd.notnull(x) else None\n",
    ")\n",
    "\n",
    "tqdm.pandas(desc=\"Clasificando tono en Comentarios\")\n",
    "comentarios_sin_tono[\"Tono\"] = comentarios_sin_tono[\"Comentario_Traducido\"].progress_apply(\n",
    "    lambda x: etiqueta_map_tono[predict_tono(str(x))] if pd.notnull(x) else None\n",
    ")\n",
    "\n",
    "tqdm.pandas(desc=\"Clasificando tono en Respuestas\")\n",
    "respuestas_sin_tono[\"Tono_Respuesta\"] = respuestas_sin_tono[\"Respuesta_Traducida\"].progress_apply(\n",
    "    lambda x: etiqueta_map_tono[predict_tono(str(x))] if pd.notnull(x) else None\n",
    ")\n",
    "\n",
    "df_posts.update(posts_sin_tono)\n",
    "df_comentarios.update(comentarios_sin_tono)\n",
    "df_comentarios.update(respuestas_sin_tono)\n",
    "\n",
    "output_path = \"clasificador_analisis/analisis/datasets/politicos_etiquetado_completo.xlsx\"\n",
    "with pd.ExcelWriter(output_path, engine=\"openpyxl\") as writer:\n",
    "    df_metadata.to_excel(writer, index=False, sheet_name=\"Metadata\")\n",
    "    df_posts.to_excel(writer, index=False, sheet_name=\"Posts\")\n",
    "    df_comentarios.to_excel(writer, index=False, sheet_name=\"Comentarios\")\n",
    "\n",
    "print(\"✅ Clasificación de tono completada y guardada.\")\n"
   ]
  }
 ],
 "metadata": {
  "kernelspec": {
   "display_name": "Python 3",
   "language": "python",
   "name": "python3"
  },
  "language_info": {
   "codemirror_mode": {
    "name": "ipython",
    "version": 3
   },
   "file_extension": ".py",
   "mimetype": "text/x-python",
   "name": "python",
   "nbconvert_exporter": "python",
   "pygments_lexer": "ipython3",
   "version": "3.10.1"
  }
 },
 "nbformat": 4,
 "nbformat_minor": 5
}
