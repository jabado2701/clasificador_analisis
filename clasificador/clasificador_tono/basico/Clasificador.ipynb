{
 "cells": [
  {
   "cell_type": "code",
   "execution_count": null,
   "id": "957f1e8f",
   "metadata": {},
   "outputs": [],
   "source": [
    "from transformers import BertTokenizer, BertForSequenceClassification\n",
    "import torch\n",
    "import pandas as pd\n",
    "from sklearn.metrics import classification_report, confusion_matrix\n",
    "\n",
    "model_path = \"clasificador_analisis/clasificador/clasificador_tono/basico/comparativa/ep_4/modelo_final\"\n",
    "\n",
    "tokenizer = BertTokenizer.from_pretrained(model_path)\n",
    "model = BertForSequenceClassification.from_pretrained(model_path)\n"
   ]
  },
  {
   "cell_type": "code",
   "execution_count": null,
   "id": "5f9de453",
   "metadata": {},
   "outputs": [],
   "source": [
    "def predict_sentiment_with_neutral(text, model, tokenizer, alpha=1.2, neutral_threshold=0.5):\n",
    "    inputs = tokenizer(text, return_tensors=\"pt\", truncation=True, padding=True, max_length=128)\n",
    "    with torch.no_grad():\n",
    "        logits = model(**inputs).logits\n",
    "    probs = torch.softmax(logits, dim=1).squeeze().tolist()\n",
    "    neutral_score = 1 - abs(probs[0] - 0.5) ** alpha - abs(probs[2] - 0.5) ** alpha\n",
    "    pred_label = 1 if neutral_score > (1 - neutral_threshold) else int(torch.argmax(torch.tensor(probs)))\n",
    "    return pred_label, probs"
   ]
  },
  {
   "cell_type": "code",
   "execution_count": null,
   "id": "8a12e37f",
   "metadata": {},
   "outputs": [],
   "source": [
    "df = pd.read_excel(\"clasificador_analisis/clasificador/clasificador_tono/basico/mejor_test.xlsx\")\n",
    "df = df.rename(columns={\"text\": \"text\", \"label\": \"label_manual_num\"})\n"
   ]
  },
  {
   "cell_type": "code",
   "execution_count": 8,
   "id": "d6bf5292",
   "metadata": {},
   "outputs": [
    {
     "name": "stdout",
     "output_type": "stream",
     "text": [
      "\n",
      "📊 MATRIZ DE CONFUSIÓN:\n",
      "[[192  27   8]\n",
      " [ 16  74  11]\n",
      " [  7  16 164]]\n",
      "\n",
      "📈 CLASIFICATION REPORT:\n",
      "              precision    recall  f1-score   support\n",
      "\n",
      "    Negativo      0.893     0.846     0.869       227\n",
      "      Neutro      0.632     0.733     0.679       101\n",
      "    Positivo      0.896     0.877     0.886       187\n",
      "\n",
      "    accuracy                          0.835       515\n",
      "   macro avg      0.807     0.818     0.811       515\n",
      "weighted avg      0.843     0.835     0.838       515\n",
      "\n"
     ]
    }
   ],
   "source": [
    "\n",
    "preds_and_scores = df[\"text\"].apply(lambda x: predict_sentiment_with_neutral(x, model, tokenizer))\n",
    "df[\"label_predicted\"] = preds_and_scores.apply(lambda x: x[0])\n",
    "df[\"scores\"] = preds_and_scores.apply(lambda x: x[1])\n",
    "df[[\"score_negativo\", \"score_neutro\", \"score_positivo\"]] = pd.DataFrame(df[\"scores\"].tolist(), index=df.index)\n",
    "\n",
    "# Métricas\n",
    "print(\"\\n📊 MATRIZ DE CONFUSIÓN:\")\n",
    "print(confusion_matrix(df[\"label_manual_num\"], df[\"label_predicted\"]))\n",
    "\n",
    "print(\"\\n📈 CLASIFICATION REPORT:\")\n",
    "print(classification_report(\n",
    "    df[\"label_manual_num\"],\n",
    "    df[\"label_predicted\"],\n",
    "    target_names=[\"Negativo\", \"Neutro\", \"Positivo\"],\n",
    "    digits=3\n",
    "))\n"
   ]
  }
 ],
 "metadata": {
  "kernelspec": {
   "display_name": "Python 3",
   "language": "python",
   "name": "python3"
  },
  "language_info": {
   "codemirror_mode": {
    "name": "ipython",
    "version": 3
   },
   "file_extension": ".py",
   "mimetype": "text/x-python",
   "name": "python",
   "nbconvert_exporter": "python",
   "pygments_lexer": "ipython3",
   "version": "3.10.1"
  }
 },
 "nbformat": 4,
 "nbformat_minor": 5
}
