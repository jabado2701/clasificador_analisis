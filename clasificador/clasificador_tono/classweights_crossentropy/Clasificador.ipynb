{
 "cells": [
  {
   "cell_type": "code",
   "execution_count": null,
   "id": "7786e24a",
   "metadata": {},
   "outputs": [
    {
     "name": "stderr",
     "output_type": "stream",
     "text": [
      "c:\\Users\\Jaime\\AppData\\Local\\Programs\\Python\\Python310\\lib\\site-packages\\torchvision\\io\\image.py:13: UserWarning: Failed to load image Python extension: '[WinError 127] No se encontró el proceso especificado'If you don't plan on using image functionality from `torchvision.io`, you can ignore this warning. Otherwise, there might be something wrong with your environment. Did you have `libjpeg` or `libpng` installed before building `torchvision` from source?\n",
      "  warn(\n"
     ]
    }
   ],
   "source": [
    "from transformers import BertTokenizer, BertForSequenceClassification\n",
    "import torch\n",
    "import pandas as pd\n",
    "from sklearn.metrics import classification_report, confusion_matrix\n",
    "\n",
    "model_path = \"clasificador_analisis/clasificador/clasificador_tono/classweights_crossentropy/comparativa/ep_4/modelo_final\"\n",
    "\n",
    "\n",
    "tokenizer = BertTokenizer.from_pretrained(model_path)\n",
    "model = BertForSequenceClassification.from_pretrained(model_path)\n"
   ]
  },
  {
   "cell_type": "code",
   "execution_count": 2,
   "id": "ce8c43ba",
   "metadata": {},
   "outputs": [],
   "source": [
    "def predict_sentiment_with_neutral(text, model, tokenizer, alpha=1.0, neutral_threshold=0.1):\n",
    "    inputs = tokenizer(text, return_tensors=\"pt\", truncation=True, padding=True, max_length=128)\n",
    "    with torch.no_grad():\n",
    "        outputs = model(**inputs)\n",
    "\n",
    "    logits = outputs.logits\n",
    "    probs = torch.softmax(logits, dim=1).squeeze()\n",
    "\n",
    "    neutral_score = 1 - (abs(probs[0] - 0.5) ** alpha + abs(probs[2] - 0.5) ** alpha)\n",
    "\n",
    "    if neutral_score > (1 - neutral_threshold):\n",
    "        return 1  \n",
    "    else:\n",
    "        return int(torch.argmax(probs))\n"
   ]
  },
  {
   "cell_type": "code",
   "execution_count": null,
   "id": "ffde62a3",
   "metadata": {},
   "outputs": [
    {
     "name": "stdout",
     "output_type": "stream",
     "text": [
      "\n",
      "📊 MATRIZ DE CONFUSIÓN:\n",
      "[[201  17   6]\n",
      " [ 25  62   9]\n",
      " [ 11   6 178]]\n",
      "\n",
      "📈 CLASIFICATION REPORT:\n",
      "              precision    recall  f1-score   support\n",
      "\n",
      "    Negativo      0.848     0.897     0.872       224\n",
      "      Neutro      0.729     0.646     0.685        96\n",
      "    Positivo      0.922     0.913     0.918       195\n",
      "\n",
      "    accuracy                          0.856       515\n",
      "   macro avg      0.833     0.819     0.825       515\n",
      "weighted avg      0.854     0.856     0.854       515\n",
      "\n"
     ]
    }
   ],
   "source": [
    "df = pd.read_excel(\"clasificador_analisis/clasificador/clasificador_tono/classweights_crossentropy/mejor_test.xlsx\")\n",
    "df = df.rename(columns={\"text\": \"text\", \"label\": \"label_manual_num\"})\n",
    "\n",
    "df[\"label_predicted\"] = df[\"text\"].apply(lambda x: predict_sentiment_with_neutral(x, model, tokenizer))\n",
    "\n",
    "print(\"\\n📊 MATRIZ DE CONFUSIÓN:\")\n",
    "print(confusion_matrix(df[\"label_manual_num\"], df[\"label_predicted\"]))\n",
    "\n",
    "print(\"\\n📈 CLASIFICATION REPORT:\")\n",
    "print(classification_report(\n",
    "    df[\"label_manual_num\"],\n",
    "    df[\"label_predicted\"],\n",
    "    target_names=[\"Negativo\", \"Neutro\", \"Positivo\"],\n",
    "    digits=3\n",
    "))"
   ]
  }
 ],
 "metadata": {
  "kernelspec": {
   "display_name": "Python 3",
   "language": "python",
   "name": "python3"
  },
  "language_info": {
   "codemirror_mode": {
    "name": "ipython",
    "version": 3
   },
   "file_extension": ".py",
   "mimetype": "text/x-python",
   "name": "python",
   "nbconvert_exporter": "python",
   "pygments_lexer": "ipython3",
   "version": "3.10.1"
  }
 },
 "nbformat": 4,
 "nbformat_minor": 5
}
