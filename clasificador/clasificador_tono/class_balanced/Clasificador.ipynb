{
 "cells": [
  {
   "cell_type": "markdown",
   "metadata": {},
   "source": [
    "## Prueba base"
   ]
  },
  {
   "cell_type": "code",
   "execution_count": null,
   "metadata": {},
   "outputs": [],
   "source": [
    "from transformers import BertTokenizer, BertForSequenceClassification\n",
    "import torch\n",
    "import pandas as pd\n",
    "from sklearn.metrics import classification_report, confusion_matrix\n",
    "\n",
    "model_path = \"clasificador_analisis/clasificador/clasificador_tono/class_balanced/comparativa/ep_4/modelo_final\"\n",
    "\n",
    "tokenizer = BertTokenizer.from_pretrained(model_path)\n",
    "model = BertForSequenceClassification.from_pretrained(model_path)\n"
   ]
  },
  {
   "cell_type": "code",
   "execution_count": null,
   "metadata": {},
   "outputs": [],
   "source": [
    "def predict_sentiment_with_neutral(text, model, tokenizer, alpha=1.3, neutral_threshold=0.6):\n",
    "    inputs = tokenizer(text, return_tensors=\"pt\", truncation=True, padding=True, max_length=128)\n",
    "    with torch.no_grad():\n",
    "        outputs = model(**inputs)\n",
    "    \n",
    "    logits = outputs.logits\n",
    "    probs = torch.softmax(logits, dim=1).squeeze().tolist()\n",
    "\n",
    "    neutral_score = 1 - abs(probs[0] - 0.5) ** alpha - abs(probs[2] - 0.5) ** alpha\n",
    "\n",
    "    if neutral_score > (1 - neutral_threshold):\n",
    "        pred_label = 1  \n",
    "    else:\n",
    "        pred_label = int(torch.argmax(torch.tensor(probs)))\n",
    "\n",
    "    return pred_label, probs\n"
   ]
  },
  {
   "cell_type": "markdown",
   "metadata": {},
   "source": [
    "### Grupal"
   ]
  },
  {
   "cell_type": "code",
   "execution_count": null,
   "metadata": {},
   "outputs": [],
   "source": [
    "df = pd.read_excel(\"clasificador_analisis/clasificador/clasificador_tono/class_balanced/mejor_test.xlsx\")\n",
    "df = df.rename(columns={\"text\": \"text\", \"label\": \"label_manual_num\"})"
   ]
  },
  {
   "cell_type": "code",
   "execution_count": 8,
   "metadata": {},
   "outputs": [
    {
     "name": "stdout",
     "output_type": "stream",
     "text": [
      "\n",
      "📊 MATRIZ DE CONFUSIÓN:\n",
      "[[79 18  4]\n",
      " [10 83  8]\n",
      " [ 1 11 89]]\n",
      "\n",
      "📈 CLASIFICATION REPORT:\n",
      "              precision    recall  f1-score   support\n",
      "\n",
      "    Negativo      0.878     0.782     0.827       101\n",
      "      Neutro      0.741     0.822     0.779       101\n",
      "    Positivo      0.881     0.881     0.881       101\n",
      "\n",
      "    accuracy                          0.828       303\n",
      "   macro avg      0.833     0.828     0.829       303\n",
      "weighted avg      0.833     0.828     0.829       303\n",
      "\n"
     ]
    }
   ],
   "source": [
    "\n",
    "preds_and_scores = df[\"text\"].apply(lambda x: predict_sentiment_with_neutral(x, model, tokenizer))\n",
    "df[\"label_predicted\"] = preds_and_scores.apply(lambda x: x[0])\n",
    "df[\"scores\"] = preds_and_scores.apply(lambda x: x[1])\n",
    "df[[\"score_negativo\", \"score_neutro\", \"score_positivo\"]] = pd.DataFrame(df[\"scores\"].tolist(), index=df.index)\n",
    "\n",
    "# Métricas\n",
    "print(\"\\n📊 MATRIZ DE CONFUSIÓN:\")\n",
    "print(confusion_matrix(df[\"label_manual_num\"], df[\"label_predicted\"]))\n",
    "\n",
    "print(\"\\n📈 CLASIFICATION REPORT:\")\n",
    "print(classification_report(\n",
    "    df[\"label_manual_num\"],\n",
    "    df[\"label_predicted\"],\n",
    "    target_names=[\"Negativo\", \"Neutro\", \"Positivo\"],\n",
    "    digits=3\n",
    "))\n"
   ]
  }
 ],
 "metadata": {
  "kernelspec": {
   "display_name": "Python 3",
   "language": "python",
   "name": "python3"
  },
  "language_info": {
   "codemirror_mode": {
    "name": "ipython",
    "version": 3
   },
   "file_extension": ".py",
   "mimetype": "text/x-python",
   "name": "python",
   "nbconvert_exporter": "python",
   "pygments_lexer": "ipython3",
   "version": "3.10.1"
  }
 },
 "nbformat": 4,
 "nbformat_minor": 2
}
