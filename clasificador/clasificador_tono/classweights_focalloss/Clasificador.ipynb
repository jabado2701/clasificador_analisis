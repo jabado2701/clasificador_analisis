{
 "cells": [
  {
   "cell_type": "code",
   "execution_count": null,
   "metadata": {},
   "outputs": [],
   "source": [
    "from transformers import BertTokenizer, BertForSequenceClassification\n",
    "import torch\n",
    "import pandas as pd\n",
    "from sklearn.metrics import classification_report, confusion_matrix\n",
    "\n",
    "model_path = \"clasificador_analisis/clasificador/clasificador_tono/classweights_focalloss/comparativa/ep_3_gamma_0.30/modelo_final\"\n",
    "\n",
    "\n",
    "tokenizer = BertTokenizer.from_pretrained(model_path)\n",
    "model = BertForSequenceClassification.from_pretrained(model_path)\n"
   ]
  },
  {
   "cell_type": "code",
   "execution_count": 5,
   "metadata": {},
   "outputs": [],
   "source": [
    "def predict_sentiment_with_neutral(text, model, tokenizer, alpha=1.0, neutral_threshold=0.1):\n",
    "    inputs = tokenizer(text, return_tensors=\"pt\", truncation=True, padding=True, max_length=128)\n",
    "    with torch.no_grad():\n",
    "        outputs = model(**inputs)\n",
    "\n",
    "    logits = outputs.logits\n",
    "    probs = torch.softmax(logits, dim=1).squeeze()\n",
    "\n",
    "    neutral_score = 1 - (abs(probs[0] - 0.5) ** alpha + abs(probs[2] - 0.5) ** alpha)\n",
    "\n",
    "    if neutral_score > (1 - neutral_threshold):\n",
    "        return 1  \n",
    "    else:\n",
    "        return int(torch.argmax(probs))\n"
   ]
  },
  {
   "cell_type": "code",
   "execution_count": null,
   "metadata": {},
   "outputs": [
    {
     "name": "stdout",
     "output_type": "stream",
     "text": [
      "\n",
      "📊 MATRIZ DE CONFUSIÓN:\n",
      "[[212  15  11]\n",
      " [ 20  58  11]\n",
      " [ 14   4 170]]\n",
      "\n",
      "📈 CLASIFICATION REPORT:\n",
      "              precision    recall  f1-score   support\n",
      "\n",
      "    Negativo      0.862     0.891     0.876       238\n",
      "      Neutro      0.753     0.652     0.699        89\n",
      "    Positivo      0.885     0.904     0.895       188\n",
      "\n",
      "    accuracy                          0.854       515\n",
      "   macro avg      0.833     0.816     0.823       515\n",
      "weighted avg      0.852     0.854     0.852       515\n",
      "\n"
     ]
    }
   ],
   "source": [
    "df = pd.read_excel(\"clasificador_analisis/clasificador/clasificador_tono/classweights_focalloss/mejor_test.xlsx\")\n",
    "df = df.rename(columns={\"text\": \"text\", \"label\": \"label_manual_num\"})\n",
    "\n",
    "df[\"label_predicted\"] = df[\"text\"].apply(lambda x: predict_sentiment_with_neutral(x, model, tokenizer))\n",
    "\n",
    "print(\"\\n📊 MATRIZ DE CONFUSIÓN:\")\n",
    "print(confusion_matrix(df[\"label_manual_num\"], df[\"label_predicted\"]))\n",
    "\n",
    "print(\"\\n📈 CLASIFICATION REPORT:\")\n",
    "print(classification_report(\n",
    "    df[\"label_manual_num\"],\n",
    "    df[\"label_predicted\"],\n",
    "    target_names=[\"Negativo\", \"Neutro\", \"Positivo\"],\n",
    "    digits=3\n",
    "))"
   ]
  }
 ],
 "metadata": {
  "kernelspec": {
   "display_name": "Python 3",
   "language": "python",
   "name": "python3"
  },
  "language_info": {
   "codemirror_mode": {
    "name": "ipython",
    "version": 3
   },
   "file_extension": ".py",
   "mimetype": "text/x-python",
   "name": "python",
   "nbconvert_exporter": "python",
   "pygments_lexer": "ipython3",
   "version": "3.10.1"
  }
 },
 "nbformat": 4,
 "nbformat_minor": 2
}
