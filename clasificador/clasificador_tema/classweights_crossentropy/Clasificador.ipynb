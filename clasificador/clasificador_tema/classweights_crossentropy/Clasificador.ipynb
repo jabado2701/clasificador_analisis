{
 "cells": [
  {
   "cell_type": "code",
   "execution_count": null,
   "id": "63ed279d",
   "metadata": {},
   "outputs": [
    {
     "name": "stderr",
     "output_type": "stream",
     "text": [
      "c:\\Users\\Jaime\\AppData\\Local\\Programs\\Python\\Python310\\lib\\site-packages\\torchvision\\io\\image.py:13: UserWarning: Failed to load image Python extension: '[WinError 127] No se encontró el proceso especificado'If you don't plan on using image functionality from `torchvision.io`, you can ignore this warning. Otherwise, there might be something wrong with your environment. Did you have `libjpeg` or `libpng` installed before building `torchvision` from source?\n",
      "  warn(\n"
     ]
    }
   ],
   "source": [
    "from transformers import BertTokenizer, BertForSequenceClassification\n",
    "import torch\n",
    "import pandas as pd\n",
    "from sklearn.metrics import classification_report, confusion_matrix\n",
    "import matplotlib.pyplot as plt\n",
    "import seaborn as sns\n",
    "\n",
    "etiqueta_map = {\n",
    "    \"Gestión Pública e Instituciones\": 0,\n",
    "    \"Economía, Empresa, Empleo e Infraestructuras\": 1,\n",
    "    \"Sociedad, Igualdad y Derechos\": 2,\n",
    "    \"Otros\": 3\n",
    "}\n",
    "target_names = list(etiqueta_map.keys())\n",
    "\n",
    "model_path = \"clasificador_analisis/clasificador/clasificador_tema/classweights_crossentropy/comparativa/ep_3/modelo_final\"\n",
    "\n",
    "tokenizer = BertTokenizer.from_pretrained(model_path)\n",
    "model = BertForSequenceClassification.from_pretrained(model_path)\n",
    "model.eval()\n",
    "\n",
    "def predict_tema(text, model, tokenizer):\n",
    "    inputs = tokenizer(text, return_tensors=\"pt\", truncation=True, padding=True, max_length=128)\n",
    "    with torch.no_grad():\n",
    "        outputs = model(**inputs)\n",
    "    logits = outputs.logits\n",
    "    probs = torch.softmax(logits, dim=1).squeeze()\n",
    "    return int(torch.argmax(probs))\n",
    "\n",
    "def get_tema_scores(text, model, tokenizer):\n",
    "    inputs = tokenizer(text, return_tensors=\"pt\", truncation=True, padding=True, max_length=128)\n",
    "    with torch.no_grad():\n",
    "        outputs = model(**inputs)\n",
    "    logits = outputs.logits\n",
    "    probs = torch.softmax(logits, dim=1).squeeze().tolist()\n",
    "    return probs\n"
   ]
  },
  {
   "cell_type": "code",
   "execution_count": null,
   "id": "11d38adf",
   "metadata": {},
   "outputs": [],
   "source": [
    "df = pd.read_excel(\"clasificador_analisis/clasificador/clasificador_tema/classweights_crossentropy/mejor_test.xlsx\")\n",
    "df = df.rename(columns={\"text\": \"text\", \"label\": \"label_manual_num\"})\n",
    "df[\"label_predicted\"] = df[\"text\"].apply(lambda x: predict_tema(x, model, tokenizer))\n",
    "df[\"scores\"] = df[\"text\"].apply(lambda x: get_tema_scores(x, model, tokenizer))"
   ]
  },
  {
   "cell_type": "code",
   "execution_count": 3,
   "id": "a8ab2874",
   "metadata": {},
   "outputs": [
    {
     "name": "stdout",
     "output_type": "stream",
     "text": [
      "\n",
      "📊 MATRIZ DE CONFUSIÓN:\n",
      "[[69  3  6  4]\n",
      " [ 6 39  0  1]\n",
      " [ 4  3 29  1]\n",
      " [ 4  0  2 13]]\n",
      "\n",
      "📈 CLASSIFICATION REPORT:\n",
      "                                              precision    recall  f1-score   support\n",
      "\n",
      "             Gestión Pública e Instituciones      0.831     0.841     0.836        82\n",
      "Economía, Empresa, Empleo e Infraestructuras      0.867     0.848     0.857        46\n",
      "               Sociedad, Igualdad y Derechos      0.784     0.784     0.784        37\n",
      "                                       Otros      0.684     0.684     0.684        19\n",
      "\n",
      "                                    accuracy                          0.815       184\n",
      "                                   macro avg      0.791     0.789     0.790       184\n",
      "                                weighted avg      0.815     0.815     0.815       184\n",
      "\n"
     ]
    }
   ],
   "source": [
    "df[[\"score_instituciones\", \"score_economia\", \"score_identidad\", \"score_otros\"]] = pd.DataFrame(df[\"scores\"].tolist(), index=df.index)\n",
    "\n",
    "print(\"\\n📊 MATRIZ DE CONFUSIÓN:\")\n",
    "print(confusion_matrix(df[\"label_manual_num\"], df[\"label_predicted\"]))\n",
    "\n",
    "print(\"\\n📈 CLASSIFICATION REPORT:\")\n",
    "print(classification_report(\n",
    "    df[\"label_manual_num\"],\n",
    "    df[\"label_predicted\"],\n",
    "    target_names=target_names,\n",
    "    digits=3  \n",
    "))"
   ]
  }
 ],
 "metadata": {
  "kernelspec": {
   "display_name": "Python 3",
   "language": "python",
   "name": "python3"
  },
  "language_info": {
   "codemirror_mode": {
    "name": "ipython",
    "version": 3
   },
   "file_extension": ".py",
   "mimetype": "text/x-python",
   "name": "python",
   "nbconvert_exporter": "python",
   "pygments_lexer": "ipython3",
   "version": "3.10.1"
  }
 },
 "nbformat": 4,
 "nbformat_minor": 5
}
