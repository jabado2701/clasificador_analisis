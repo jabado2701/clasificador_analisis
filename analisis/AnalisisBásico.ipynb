{
 "cells": [
  {
   "cell_type": "code",
   "execution_count": null,
   "id": "be4801c3",
   "metadata": {},
   "outputs": [],
   "source": [
    "import pandas as pd\n",
    "import re\n",
    "import plotly.express as px"
   ]
  },
  {
   "cell_type": "code",
   "execution_count": null,
   "id": "ea246259",
   "metadata": {},
   "outputs": [],
   "source": [
    "def eliminar_urls(texto: str) -> str:\n",
    "    \"\"\"Elimina URLs de un texto dado.\"\"\"\n",
    "    if pd.isnull(texto):\n",
    "        return texto\n",
    "    return re.sub(r'https?://\\S+|www\\.\\S+', '', texto)\n",
    "\n",
    "\n",
    "def clasificar_edad_rango(edad) -> str | None:\n",
    "    \"\"\"Clasifica una edad numérica en rangos predefinidos.\"\"\"\n",
    "    if pd.isna(edad):\n",
    "        return None\n",
    "    edad = int(edad)\n",
    "    if edad < 30:\n",
    "        return \"<30\"\n",
    "    elif edad < 40:\n",
    "        return \"30-39\"\n",
    "    elif edad < 50:\n",
    "        return \"40-49\"\n",
    "    elif edad < 60:\n",
    "        return \"50-59\"\n",
    "    elif edad < 70:\n",
    "        return \"60-69\"\n",
    "    return \"70+\"\n",
    "\n",
    "\n",
    "def obtener_quinquenios(legislaturas_str: str) -> str:\n",
    "    \"\"\"\n",
    "    Convierte una cadena de años separados por comas en rangos quinquenales.\n",
    "    Ejemplo: \"2000, 2003\" → \"2000-2004, 2000-2004\"\n",
    "    \"\"\"\n",
    "    años = {int(x.strip()) for x in legislaturas_str.split(\",\") if x.strip().isdigit()}\n",
    "    quinquenios = {\n",
    "        f\"{1975 + 5 * ((año - 1975) // 5)}-{1975 + 5 * ((año - 1975) // 5) + 4}\"\n",
    "        for año in años\n",
    "    }\n",
    "    return \", \".join(sorted(quinquenios))\n",
    "\n",
    "\n",
    "def agrupar_seguidores(seguidores: int) -> str:\n",
    "    \"\"\"Agrupa cuentas según cantidad de seguidores.\"\"\"\n",
    "    if seguidores < 1_000:\n",
    "        return \"Menos de 1k\"\n",
    "    elif seguidores < 10_000:\n",
    "        return \"1k - 10k\"\n",
    "    elif seguidores < 100_000:\n",
    "        return \"10k - 100k\"\n",
    "    elif seguidores < 1_000_000:\n",
    "        return \"100k - 1M\"\n",
    "    return \"Más de 1M\"\n",
    "\n",
    "\n",
    "def agrupar_posts(posts: int) -> str:\n",
    "    \"\"\"Agrupa cuentas según cantidad de publicaciones.\"\"\"\n",
    "    if posts < 1_000:\n",
    "        return \"Menos de 1k\"\n",
    "    elif posts < 10_000:\n",
    "        return \"1k - 10k\"\n",
    "    elif posts < 50_000:\n",
    "        return \"10k - 50k\"\n",
    "    elif posts < 100_000:\n",
    "        return \"50k - 100k\"\n",
    "    return \"Más de 100k\"\n",
    "\n",
    "\n",
    "def agrupar_fechas(fechas: int) -> str:\n",
    "    \"\"\"Agrupa fechas en rangos anuales relevantes.\"\"\"\n",
    "    if fechas < 2010:\n",
    "        return \"Antes de 2010\"\n",
    "    elif fechas < 2014:\n",
    "        return \"2010 - 2014\"\n",
    "    elif fechas < 2020:\n",
    "        return \"2014 - 2019\"\n",
    "    elif fechas < 2025:\n",
    "        return \"2020 - 2024\"\n",
    "    return \"2025 y después\""
   ]
  },
  {
   "cell_type": "code",
   "execution_count": null,
   "id": "cfa3e012",
   "metadata": {},
   "outputs": [],
   "source": [
    "ruta_excel = \"clasificador_analisis/analisis/datasets/politicos_etiquetado_completo.xlsx\"\n",
    "\n",
    "df_metadata = pd.read_excel(ruta_excel, sheet_name=\"Metadata\")\n",
    "df_posts = pd.read_excel(ruta_excel, sheet_name=\"Posts\")\n",
    "df_comentarios = pd.read_excel(ruta_excel, sheet_name=\"Comentarios\")\n",
    "\n",
    "print(\"\\n📄 HOJA: Posts\")\n",
    "\n",
    "columnas_a_mostrar = [\"Tono\", \"Tema\"]\n",
    "for columna in columnas_a_mostrar:\n",
    "    if columna in df_posts.columns:\n",
    "        print(f\"\\n📌 Distribución de {columna}:\")\n",
    "        print(df_posts[columna].value_counts(dropna=False))"
   ]
  },
  {
   "cell_type": "code",
   "execution_count": null,
   "id": "13fca00b",
   "metadata": {},
   "outputs": [],
   "source": [
    "print(\"\\n📄 HOJA: Comentarios\")\n",
    "\n",
    "columnas_a_mostrar = [\"Tono\", \"Tono_Respuesta\"]\n",
    "for columna in columnas_a_mostrar:\n",
    "    if columna in df_comentarios.columns:\n",
    "        print(f\"\\n📌 Distribución de {columna}:\")\n",
    "        print(df_comentarios[columna].value_counts(dropna=False))"
   ]
  },
  {
   "cell_type": "code",
   "execution_count": null,
   "id": "b4a5cf5f",
   "metadata": {},
   "outputs": [],
   "source": [
    "columnas_metadata = [\"Descripción\"]\n",
    "columnas_posts = [\"Contenido\", \"Contenido_Traducido\"]\n",
    "columnas_comentarios = [\"Contenido\", \"Comentario_Traducido\", \"Respuesta\", \"Respuesta_Traducida\"]\n",
    "\n",
    "df_metadata[columnas_metadata] = df_metadata[columnas_metadata].applymap(eliminar_urls)\n",
    "df_posts[columnas_posts] = df_posts[columnas_posts].applymap(eliminar_urls)\n",
    "df_comentarios[columnas_comentarios] = df_comentarios[columnas_comentarios].applymap(eliminar_urls)"
   ]
  },
  {
   "cell_type": "markdown",
   "id": "59b1864a",
   "metadata": {},
   "source": [
    "## Distribución posts y comentarios por mes"
   ]
  },
  {
   "cell_type": "code",
   "execution_count": null,
   "id": "0a7b2803",
   "metadata": {},
   "outputs": [],
   "source": [
    "df_posts = pd.read_excel(ruta_excel, sheet_name=\"Posts\")\n",
    "df_comentarios = pd.read_excel(ruta_excel, sheet_name=\"Comentarios\")\n",
    "\n",
    "for df in [df_posts, df_comentarios]:\n",
    "    df[\"Fecha_Publicación\"] = pd.to_datetime(df[\"Fecha_Publicación\"], errors=\"coerce\")\n",
    "\n",
    "posts_por_fecha = df_posts[\"Fecha_Publicación\"].dt.date.value_counts().sort_index()\n",
    "comentarios_por_fecha = df_comentarios[\"Fecha_Publicación\"].dt.date.value_counts().sort_index()\n",
    "\n",
    "df_plot = pd.DataFrame({\n",
    "    \"Fecha\": list(posts_por_fecha.index) + list(comentarios_por_fecha.index),\n",
    "    \"Cantidad\": list(posts_por_fecha.values) + list(comentarios_por_fecha.values),\n",
    "    \"Tipo\": [\"Posts\"] * len(posts_por_fecha) + [\"Comentarios\"] * len(comentarios_por_fecha)\n",
    "})\n",
    "\n",
    "fig = px.line(\n",
    "    df_plot,\n",
    "    x=\"Fecha\",\n",
    "    y=\"Cantidad\",\n",
    "    color=\"Tipo\",\n",
    "    title=\"Distribución temporal de publicaciones y comentarios\",\n",
    "    labels={\"Cantidad\": \"Número de mensajes\", \"Fecha\": \"Fecha\"}\n",
    ")\n",
    "\n",
    "fig.update_traces(mode=\"lines+markers\")\n",
    "fig.update_layout(\n",
    "    hovermode=\"x unified\",\n",
    "    width=1000,\n",
    "    height=500,\n",
    "    margin=dict(l=20, r=20, t=60, b=20),\n",
    "    showlegend=True\n",
    ")\n",
    "\n",
    "fig.show()"
   ]
  },
  {
   "cell_type": "markdown",
   "id": "30adf647",
   "metadata": {},
   "source": [
    "### Distribución de Cargo"
   ]
  },
  {
   "cell_type": "code",
   "execution_count": null,
   "id": "457abc48",
   "metadata": {},
   "outputs": [],
   "source": [
    "fig_cargo = px.pie(\n",
    "    df_metadata,\n",
    "    names=\"Cargo\",\n",
    "    title=\"Distribución de Cargo\"\n",
    ")\n",
    "\n",
    "fig_cargo.update_traces(\n",
    "    textposition=\"inside\",\n",
    "    textinfo=\"percent+label\",\n",
    "    pull=[0] * df_metadata[\"Cargo\"].nunique(),\n",
    "    marker=dict(line=dict(width=0))\n",
    ")\n",
    "\n",
    "fig_cargo.update_layout(\n",
    "    width=800,\n",
    "    height=800,\n",
    "    margin=dict(l=20, r=20, t=60, b=20),\n",
    "    showlegend=True\n",
    ")\n",
    "\n",
    "fig_cargo.show()"
   ]
  },
  {
   "cell_type": "markdown",
   "id": "f9bff0ab",
   "metadata": {},
   "source": [
    "### Distribución de Género"
   ]
  },
  {
   "cell_type": "code",
   "execution_count": null,
   "id": "254ea758",
   "metadata": {},
   "outputs": [],
   "source": [
    "fig_genero = px.pie(\n",
    "    df_metadata,\n",
    "    names=\"Género\",\n",
    "    title=\"Distribución de Género en Metadata\"\n",
    ")\n",
    "\n",
    "fig_genero.update_traces(\n",
    "    textposition=\"inside\",\n",
    "    textinfo=\"percent+label\",\n",
    "    pull=[0] * df_metadata[\"Género\"].nunique(),\n",
    "    marker=dict(line=dict(width=0))\n",
    ")\n",
    "\n",
    "fig_genero.update_layout(\n",
    "    width=800,\n",
    "    height=800,\n",
    "    margin=dict(l=20, r=20, t=60, b=20),\n",
    "    showlegend=True\n",
    ")\n",
    "\n",
    "fig_genero.show()"
   ]
  },
  {
   "cell_type": "markdown",
   "id": "73959d1b",
   "metadata": {},
   "source": [
    "### Distribución de Estudios"
   ]
  },
  {
   "cell_type": "code",
   "execution_count": null,
   "id": "0d79497d",
   "metadata": {},
   "outputs": [],
   "source": [
    "fig_estudios = px.pie(\n",
    "    df_metadata,\n",
    "    names=\"Estudios\",\n",
    "    title=\"Distribución de Estudios en Metadata\"\n",
    ")\n",
    "\n",
    "fig_estudios.update_traces(\n",
    "    textposition=\"inside\",\n",
    "    textinfo=\"percent+label\",\n",
    "    pull=[0] * df_metadata[\"Estudios\"].nunique(),\n",
    "    marker=dict(line=dict(width=0))\n",
    ")\n",
    "\n",
    "fig_estudios.update_layout(\n",
    "    width=800,\n",
    "    height=800,\n",
    "    margin=dict(l=20, r=20, t=60, b=20),\n",
    "    showlegend=True\n",
    ")\n",
    "\n",
    "fig_estudios.show()"
   ]
  },
  {
   "cell_type": "markdown",
   "id": "c51b9c57",
   "metadata": {},
   "source": [
    "### Distribución de Campos de Estudio"
   ]
  },
  {
   "cell_type": "code",
   "execution_count": null,
   "id": "85299e9d",
   "metadata": {},
   "outputs": [],
   "source": [
    "fig_campo = px.pie(\n",
    "    df_metadata,\n",
    "    names=\"Campo\",\n",
    "    title=\"Distribución de campo de estudio en Metadata\"\n",
    ")\n",
    "\n",
    "fig_campo.update_traces(\n",
    "    textposition=\"inside\",\n",
    "    textinfo=\"percent+label\",\n",
    "    pull=[0] * df_metadata[\"Campo\"].nunique(),\n",
    "    marker=dict(line=dict(width=0))\n",
    ")\n",
    "\n",
    "fig_campo.update_layout(\n",
    "    width=800,\n",
    "    height=800,\n",
    "    margin=dict(l=20, r=20, t=60, b=10),\n",
    "    showlegend=True\n",
    ")\n",
    "\n",
    "fig_campo.show()"
   ]
  },
  {
   "cell_type": "markdown",
   "id": "eafe707a",
   "metadata": {},
   "source": [
    "### Distribución de Comunidades Autónomas"
   ]
  },
  {
   "cell_type": "code",
   "execution_count": null,
   "id": "7c7b6165",
   "metadata": {},
   "outputs": [],
   "source": [
    "fig_comunidad = px.pie(\n",
    "    df_metadata,\n",
    "    names=\"Comunidad Autónoma\",\n",
    "    title=\"Distribución de comunidades en Metadata\"\n",
    ")\n",
    "\n",
    "fig_comunidad.update_traces(\n",
    "    textposition=\"inside\",\n",
    "    textinfo=\"percent+label+value\",\n",
    "    pull=[0] * df_metadata[\"Comunidad Autónoma\"].nunique(),\n",
    "    marker=dict(line=dict(width=0))\n",
    ")\n",
    "\n",
    "fig_comunidad.update_layout(\n",
    "    width=800,\n",
    "    height=800,\n",
    "    margin=dict(l=20, r=20, t=60, b=5),\n",
    "    showlegend=False\n",
    ")\n",
    "\n",
    "fig_comunidad.show()"
   ]
  },
  {
   "cell_type": "markdown",
   "id": "6ef191fe",
   "metadata": {},
   "source": [
    "### Distribución de Partidos Políticos"
   ]
  },
  {
   "cell_type": "code",
   "execution_count": null,
   "id": "3a1aa51e",
   "metadata": {},
   "outputs": [],
   "source": [
    "colores_partidos = {\n",
    "    \"PSOE\": \"#ff0000\",\n",
    "    \"PP\": \"#189ad3\",\n",
    "    \"SUMAR\": \"#ff0065\",\n",
    "    \"VOX\": \"#74d600\",\n",
    "    \"JxCAT-JUNTS\": \"#43e8d8\",\n",
    "    \"EAJ-PNV\": \"#389844\",\n",
    "    \"ERC\": \"#fdb73e\",\n",
    "    \"EH Bildu\": \"#3fa0a3\",\n",
    "    \"CCa\": \"#fffff2\",\n",
    "    \"PRC\": \"#d6ff00\",\n",
    "    \"BNG\": \"#b0cfff\",\n",
    "    \"Más Madrid\": \"#52eb86\",\n",
    "    \"UPN\": \"#0059b3\",\n",
    "}\n",
    "\n",
    "fig_partido = px.pie(\n",
    "    df_metadata,\n",
    "    names=\"Partido\",\n",
    "    title=\"Distribución de partido en Metadata\",\n",
    "    color=\"Partido\",\n",
    "    color_discrete_map=colores_partidos\n",
    ")\n",
    "\n",
    "fig_partido.update_traces(\n",
    "    textposition=\"inside\",\n",
    "    textinfo=\"percent+label\",\n",
    "    pull=[0] * df_metadata[\"Partido\"].nunique(),\n",
    "    marker=dict(line=dict(width=0))\n",
    ")\n",
    "\n",
    "fig_partido.update_layout(\n",
    "    width=800,\n",
    "    height=800,\n",
    "    margin=dict(l=20, r=20, t=60, b=10),\n",
    "    showlegend=True\n",
    ")\n",
    "\n",
    "fig_partido.show()"
   ]
  },
  {
   "cell_type": "markdown",
   "id": "cb3f14eb",
   "metadata": {},
   "source": [
    "### Distribución por Legislaturas"
   ]
  },
  {
   "cell_type": "code",
   "execution_count": null,
   "id": "5f34b0dd",
   "metadata": {},
   "outputs": [],
   "source": [
    "df_metadata[\"Número de Legislaturas\"] = df_metadata[\"Número de Legislaturas\"].apply(\n",
    "    lambda x: \"Más de 3\" if x > 3 else str(x)\n",
    ")"
   ]
  },
  {
   "cell_type": "code",
   "execution_count": null,
   "id": "2d5a78d1",
   "metadata": {},
   "outputs": [],
   "source": [
    "fig_legislaturas = px.pie(\n",
    "    df_metadata,\n",
    "    names=\"Número de Legislaturas\",\n",
    "    title=\"Distribución de nº de legislaturas\"\n",
    ")\n",
    "\n",
    "fig_legislaturas.update_traces(\n",
    "    textposition=\"inside\",\n",
    "    textinfo=\"percent+label+value\",\n",
    "    pull=[0] * df_metadata[\"Número de Legislaturas\"].nunique(),\n",
    "    marker=dict(line=dict(width=0))\n",
    ")\n",
    "\n",
    "fig_legislaturas.update_layout(\n",
    "    width=800,\n",
    "    height=700,\n",
    "    margin=dict(l=20, r=20, t=60, b=5),\n",
    "    showlegend=False\n",
    ")\n",
    "\n",
    "fig_legislaturas.show()"
   ]
  },
  {
   "cell_type": "markdown",
   "id": "0ae36e3f",
   "metadata": {},
   "source": [
    "### Distribución de Edad"
   ]
  },
  {
   "cell_type": "code",
   "execution_count": null,
   "id": "152b3819",
   "metadata": {},
   "outputs": [],
   "source": [
    "df_metadata[\"Rango_Edad\"] = df_metadata[\"Edad\"].apply(clasificar_edad_rango)"
   ]
  },
  {
   "cell_type": "code",
   "execution_count": null,
   "id": "96be011c",
   "metadata": {},
   "outputs": [],
   "source": [
    "fig_edad_rangos = px.pie(\n",
    "    df_metadata,\n",
    "    names=\"Rango_Edad\",\n",
    "    title=\"Distribución de edad\"\n",
    ")\n",
    "\n",
    "fig_edad_rangos.update_traces(\n",
    "    textposition=\"inside\",\n",
    "    textinfo=\"percent+label+value\",\n",
    "    pull=[0] * df_metadata[\"Rango_Edad\"].nunique(),\n",
    "    marker=dict(line=dict(width=0))\n",
    ")\n",
    "\n",
    "fig_edad_rangos.update_layout(\n",
    "    width=800,\n",
    "    height=800,\n",
    "    margin=dict(l=20, r=20, t=60, b=5),\n",
    "    showlegend=False\n",
    ")\n",
    "\n",
    "fig_edad_rangos.show()"
   ]
  },
  {
   "cell_type": "markdown",
   "id": "41afd1c5",
   "metadata": {},
   "source": [
    "### Distribución por rango de Legislaturas"
   ]
  },
  {
   "cell_type": "code",
   "execution_count": null,
   "id": "7bacb12b",
   "metadata": {},
   "outputs": [],
   "source": [
    "df_metadata[\"Legislaturas\"] = df_metadata[\"Legislaturas\"].astype(str)\n",
    "\n",
    "df_metadata[\"Rango_Legislaturas\"] = df_metadata[\"Legislaturas\"].apply(obtener_quinquenios)"
   ]
  },
  {
   "cell_type": "code",
   "execution_count": null,
   "id": "2b985a7c",
   "metadata": {},
   "outputs": [],
   "source": [
    "frecuencia_quinquenios = (\n",
    "    df_metadata[\"Rango_Legislaturas\"]\n",
    "    .dropna()\n",
    "    .str.split(r\",\\s*\")\n",
    "    .explode()\n",
    "    .str.strip()\n",
    "    .value_counts()\n",
    "    .sort_index()\n",
    ")\n",
    "\n",
    "fig = px.bar(\n",
    "    x=frecuencia_quinquenios.index,\n",
    "    y=frecuencia_quinquenios.values,\n",
    "    title=\"Distribución de Legislaturas por Rango\",\n",
    "    labels={\"x\": \"Rango de Años\", \"y\": \"Número de personas\"}\n",
    ")\n",
    "\n",
    "fig.update_layout(\n",
    "    width=800,\n",
    "    height=500,\n",
    "    bargap=0.2,\n",
    "    margin=dict(l=20, r=20, t=60, b=60)\n",
    ")\n",
    "\n",
    "fig.show()"
   ]
  },
  {
   "cell_type": "markdown",
   "id": "4bb22d79",
   "metadata": {},
   "source": [
    "### Distribución por rango de Seguidores y Posts"
   ]
  },
  {
   "cell_type": "code",
   "execution_count": null,
   "id": "2f6051ca",
   "metadata": {},
   "outputs": [],
   "source": [
    "\n",
    "df_metadata[\"Rango_Seguidores\"] = df_metadata[\"Seguidores\"].apply(agrupar_seguidores)\n",
    "\n",
    "df_metadata[\"Rango_Posts\"] = df_metadata[\"Posts\"].apply(agrupar_posts)"
   ]
  },
  {
   "cell_type": "code",
   "execution_count": null,
   "id": "db1af76a",
   "metadata": {},
   "outputs": [],
   "source": [
    "fig_rango_seguidores = px.pie(\n",
    "    df_metadata,\n",
    "    names=\"Rango_Seguidores\",\n",
    "    title=\"Distribución Rango de Seguidores\"\n",
    ")\n",
    "\n",
    "fig_rango_seguidores.update_traces(\n",
    "    textposition=\"inside\",\n",
    "    textinfo=\"percent+label+value\",\n",
    "    pull=[0] * df_metadata[\"Rango_Seguidores\"].nunique(),\n",
    "    marker=dict(line=dict(width=0))\n",
    ")\n",
    "\n",
    "fig_rango_seguidores.update_layout(\n",
    "    width=800,\n",
    "    height=800,\n",
    "    margin=dict(l=20, r=20, t=60, b=10),\n",
    "    showlegend=False\n",
    ")\n",
    "\n",
    "fig_rango_seguidores.show()"
   ]
  },
  {
   "cell_type": "code",
   "execution_count": null,
   "id": "9c31a34c",
   "metadata": {},
   "outputs": [],
   "source": [
    "fig_rango_posts = px.pie(\n",
    "    df_metadata,\n",
    "    names=\"Rango_Posts\",\n",
    "    title=\"Distribución Rango de Posts\"\n",
    ")\n",
    "\n",
    "fig_rango_posts.update_traces(\n",
    "    textposition=\"inside\",\n",
    "    textinfo=\"percent+label+value\",\n",
    "    pull=[0] * df_metadata[\"Rango_Posts\"].nunique(),\n",
    "    marker=dict(line=dict(width=0))\n",
    ")\n",
    "\n",
    "fig_rango_posts.update_layout(\n",
    "    width=800,\n",
    "    height=800,\n",
    "    margin=dict(l=20, r=20, t=60, b=10),\n",
    "    showlegend=False\n",
    ")\n",
    "\n",
    "fig_rango_posts.show()"
   ]
  },
  {
   "cell_type": "markdown",
   "id": "0e9bb0d4",
   "metadata": {},
   "source": [
    "### Distribución por rango de creación de cuenta"
   ]
  },
  {
   "cell_type": "code",
   "execution_count": null,
   "id": "f68290bb",
   "metadata": {},
   "outputs": [],
   "source": [
    "df_metadata[\"Comienzo en X/Twitter rango\"] = df_metadata[\"Comienzo en X/Twitter\"].apply(agrupar_fechas)"
   ]
  },
  {
   "cell_type": "code",
   "execution_count": null,
   "id": "fa27f6dd",
   "metadata": {},
   "outputs": [],
   "source": [
    "fig_inicio_twitter = px.pie(\n",
    "    df_metadata,\n",
    "    names=\"Comienzo en X/Twitter rango\",\n",
    "    title=\"Distribución por año de inicio en X/Twitter\"\n",
    ")\n",
    "\n",
    "fig_inicio_twitter.update_traces(\n",
    "    textposition=\"inside\",\n",
    "    textinfo=\"percent+label+value\",\n",
    "    pull=[0] * df_metadata[\"Comienzo en X/Twitter rango\"].nunique(),\n",
    "    marker=dict(line=dict(width=0))\n",
    ")\n",
    "\n",
    "fig_inicio_twitter.update_layout(\n",
    "    width=800,\n",
    "    height=800,\n",
    "    margin=dict(l=20, r=20, t=60, b=10),\n",
    "    showlegend=False\n",
    ")\n",
    "\n",
    "fig_inicio_twitter.show()"
   ]
  },
  {
   "cell_type": "code",
   "execution_count": null,
   "id": "570d681c",
   "metadata": {},
   "outputs": [],
   "source": [
    "ruta_salida = \"clasificador_analisis/analisis/datasets/politicos_etiquetado_actualizado.xlsx\"\n",
    "\n",
    "with pd.ExcelWriter(ruta_salida, engine=\"openpyxl\") as writer:\n",
    "    df_metadata.to_excel(writer, sheet_name=\"Metadata\", index=False)\n",
    "    df_posts.to_excel(writer, sheet_name=\"Posts\", index=False)\n",
    "    df_comentarios.to_excel(writer, sheet_name=\"Comentarios\", index=False)"
   ]
  }
 ],
 "metadata": {
  "kernelspec": {
   "display_name": "Python 3",
   "language": "python",
   "name": "python3"
  },
  "language_info": {
   "codemirror_mode": {
    "name": "ipython",
    "version": 3
   },
   "file_extension": ".py",
   "mimetype": "text/x-python",
   "name": "python",
   "nbconvert_exporter": "python",
   "pygments_lexer": "ipython3",
   "version": "3.10.1"
  }
 },
 "nbformat": 4,
 "nbformat_minor": 5
}
